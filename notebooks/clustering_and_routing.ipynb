{
 "cells": [
  {
   "cell_type": "code",
   "execution_count": 1,
   "id": "3ed522e1-787e-4fd1-aae5-e69dcc32419f",
   "metadata": {},
   "outputs": [
    {
     "name": "stdout",
     "output_type": "stream",
     "text": [
      "   id    name  latitude  longitude\n",
      "0   1  Stop A   -1.2921    36.8219\n",
      "1   2  Stop B   -1.2922    36.8220\n",
      "2   3  Stop C   -1.2918    36.8215\n",
      "3   4  Stop D   -1.3000    36.8200\n",
      "4   5  Stop E   -1.3010    36.8190\n",
      "Columns: ['id', 'name', 'latitude', 'longitude']\n"
     ]
    }
   ],
   "source": [
    "import pandas as pd\n",
    "from sklearn.cluster import KMeans\n",
    "\n",
    "# Load the bus stops data\n",
    "df = pd.read_csv('../data/sample_bus_stops.csv')\n",
    "\n",
    "# Quick check\n",
    "print(df.head())\n",
    "print(\"Columns:\", df.columns.tolist())\n"
   ]
  },
  {
   "cell_type": "code",
   "execution_count": 2,
   "id": "178ab1d7",
   "metadata": {},
   "outputs": [
    {
     "name": "stdout",
     "output_type": "stream",
     "text": [
      "✅ Clustered data saved.\n"
     ]
    }
   ],
   "source": [
    "# Rename 'name' to 'stop_name' if needed\n",
    "if 'name' in df.columns:\n",
    "    df.rename(columns={'name': 'stop_name'}, inplace=True)\n",
    "\n",
    "# Apply KMeans clustering\n",
    "kmeans = KMeans(n_clusters=3, random_state=42)\n",
    "df['cluster'] = kmeans.fit_predict(df[['latitude', 'longitude']])\n",
    "\n",
    "# Save clustered data\n",
    "df.to_csv('../data/bus_stops_clustered.csv', index=False)\n",
    "print(\"✅ Clustered data saved.\")\n"
   ]
  },
  {
   "cell_type": "code",
   "execution_count": 5,
   "id": "3a857004",
   "metadata": {},
   "outputs": [],
   "source": [
    "import os\n",
    "\n",
    "# ✅ Create 'output' folder if it doesn't exist\n",
    "os.makedirs('output', exist_ok=True)\n",
    "\n",
    "# ✅ Now save the map safely\n",
    "map_clusters.save('output/clustered_map.html')\n"
   ]
  },
  {
   "cell_type": "code",
   "execution_count": 6,
   "id": "8be9ad93",
   "metadata": {},
   "outputs": [
    {
     "data": {
      "text/html": [
       "\n",
       "        <iframe\n",
       "            width=\"800\"\n",
       "            height=\"500\"\n",
       "            src=\"output/clustered_map.html\"\n",
       "            frameborder=\"0\"\n",
       "            allowfullscreen\n",
       "            \n",
       "        ></iframe>\n",
       "        "
      ],
      "text/plain": [
       "<IPython.lib.display.IFrame at 0x29df8fd4830>"
      ]
     },
     "execution_count": 6,
     "metadata": {},
     "output_type": "execute_result"
    }
   ],
   "source": [
    "from IPython.display import IFrame\n",
    "IFrame('output/clustered_map.html', width=800, height=500)\n"
   ]
  }
 ],
 "metadata": {
  "kernelspec": {
   "display_name": "Python 3",
   "language": "python",
   "name": "python3"
  },
  "language_info": {
   "codemirror_mode": {
    "name": "ipython",
    "version": 3
   },
   "file_extension": ".py",
   "mimetype": "text/x-python",
   "name": "python",
   "nbconvert_exporter": "python",
   "pygments_lexer": "ipython3",
   "version": "3.13.2"
  }
 },
 "nbformat": 4,
 "nbformat_minor": 5
}
